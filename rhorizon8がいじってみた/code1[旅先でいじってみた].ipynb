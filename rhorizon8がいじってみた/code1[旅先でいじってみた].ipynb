{
 "cells": [
  {
   "cell_type": "code",
   "execution_count": 1,
   "metadata": {},
   "outputs": [],
   "source": [
    "from tensorflow.keras.models import Sequential\n",
    "from tensorflow.keras.layers import Dense, Activation\n",
    "from tensorflow.keras.layers import LSTM\n",
    "from tensorflow.keras.optimizers import Adam\n",
    "from tensorflow.keras.callbacks import EarlyStopping\n",
    "import numpy as np\n",
    "import matplotlib.pyplot as plt\n",
    "import pandas"
   ]
  },
  {
   "cell_type": "code",
   "execution_count": 2,
   "metadata": {},
   "outputs": [
    {
     "data": {
      "text/plain": [
       "array([[ 1.    ,  0.    ,  1.    , ...,  0.81  ,  0.    , 16.    ],\n",
       "       [ 1.    ,  0.    ,  1.    , ...,  0.8   ,  0.    , 40.    ],\n",
       "       [ 1.    ,  0.    ,  1.    , ...,  0.8   ,  0.    , 32.    ],\n",
       "       ...,\n",
       "       [ 1.    ,  0.    , 12.    , ...,  0.58  ,  0.194 , 52.    ],\n",
       "       [ 1.    ,  0.    , 12.    , ...,  0.62  ,  0.1343, 38.    ],\n",
       "       [ 1.    ,  0.    , 12.    , ...,  0.66  ,  0.    , 31.    ]],\n",
       "      dtype=float32)"
      ]
     },
     "metadata": {},
     "output_type": "display_data"
    },
    {
     "data": {
      "text/plain": [
       "array([[ 1.    ,  1.    ,  1.    , ...,  0.3788,  0.66  ,  0.    ],\n",
       "       [ 1.    ,  1.    ,  1.    , ...,  0.3485,  0.66  ,  0.1343],\n",
       "       [ 1.    ,  1.    ,  1.    , ...,  0.3485,  0.76  ,  0.    ],\n",
       "       ...,\n",
       "       [ 1.    ,  1.    , 12.    , ...,  0.2576,  0.6   ,  0.1642],\n",
       "       [ 1.    ,  1.    , 12.    , ...,  0.2727,  0.56  ,  0.1343],\n",
       "       [ 1.    ,  1.    , 12.    , ...,  0.2727,  0.65  ,  0.1343]],\n",
       "      dtype=float32)"
      ]
     },
     "metadata": {},
     "output_type": "display_data"
    },
    {
     "name": "stdout",
     "output_type": "stream",
     "text": [
      "[[16.]\n",
      " [40.]\n",
      " [32.]\n",
      " ...\n",
      " [52.]\n",
      " [38.]\n",
      " [31.]]\n",
      "[[[ 1.    ]\n",
      "  [ 0.    ]\n",
      "  [ 1.    ]\n",
      "  ...\n",
      "  [ 0.2879]\n",
      "  [ 0.81  ]\n",
      "  [ 0.    ]]\n",
      "\n",
      " [[ 1.    ]\n",
      "  [ 0.    ]\n",
      "  [ 1.    ]\n",
      "  ...\n",
      "  [ 0.2727]\n",
      "  [ 0.8   ]\n",
      "  [ 0.    ]]\n",
      "\n",
      " [[ 1.    ]\n",
      "  [ 0.    ]\n",
      "  [ 1.    ]\n",
      "  ...\n",
      "  [ 0.2727]\n",
      "  [ 0.8   ]\n",
      "  [ 0.    ]]\n",
      "\n",
      " ...\n",
      "\n",
      " [[ 1.    ]\n",
      "  [ 0.    ]\n",
      "  [12.    ]\n",
      "  ...\n",
      "  [ 0.4091]\n",
      "  [ 0.58  ]\n",
      "  [ 0.194 ]]\n",
      "\n",
      " [[ 1.    ]\n",
      "  [ 0.    ]\n",
      "  [12.    ]\n",
      "  ...\n",
      "  [ 0.3939]\n",
      "  [ 0.62  ]\n",
      "  [ 0.1343]]\n",
      "\n",
      " [[ 1.    ]\n",
      "  [ 0.    ]\n",
      "  [12.    ]\n",
      "  ...\n",
      "  [ 0.3788]\n",
      "  [ 0.66  ]\n",
      "  [ 0.    ]]]\n"
     ]
    }
   ],
   "source": [
    "train_file = \"./train.tsv\"\n",
    "test_file = \"./test.tsv\"\n",
    "\n",
    "train_data = pandas.read_csv(train_file, delimiter='\\t').to_numpy()\n",
    "train_data2 = np.empty((train_data.shape[0], train_data.shape[1]-2))\n",
    "train_data2[:, 0:] = train_data[:, 2:]\n",
    "train_data2[:,3:4] = train_data2[:, 3:4] / 12.0 #月を0～1に正規化\n",
    "train_data2[:,5:6] = train_data2[:,5:6] / 6.0   #曜日を0～1に正規化\n",
    "train_data2[:,7:8] = train_data2[:,7:8] / 4.0   #天気を0～1に正規化\n",
    "train_data2 = train_data2.astype(np.float32)\n",
    "\n",
    "test_data = pandas.read_csv(test_file, delimiter='\\t').to_numpy()\n",
    "test_data2 = np.empty((test_data.shape[0], test_data.shape[1]-2))\n",
    "test_data2[:, 0:] = test_data[:, 2:]\n",
    "test_data2[:,3:4] = test_data2[:, 3:4] / 12.0 #月を0～1に正規化\n",
    "test_data2[:,5:6] = test_data2[:,5:6] / 6.0   #曜日を0～1に正規化\n",
    "test_data2[:,7:8] = test_data2[:,7:8] / 4.0   #天気を0～1に正規化\n",
    "test_data2 = test_data2.astype(np.float32)\n",
    "\n",
    "display(train_data2)\n",
    "display(test_data2)\n",
    "\n",
    "x = train_data2[:, 12:]\n",
    "x = x.reshape(x.shape[0], 1)\n",
    "print(x)\n",
    "y = train_data2[:, :12]\n",
    "y = y.reshape(y.shape[0], y.shape[1],1)\n",
    "print(y)\n",
    "test_y = test_data2.reshape(test_data2.shape[0], test_data2.shape[1], 1)"
   ]
  },
  {
   "cell_type": "code",
   "execution_count": 3,
   "metadata": {},
   "outputs": [],
   "source": [
    "length_of_sequence = y.shape[1]\n",
    "#print(length_of_sequence)\n",
    "in_out_neurons = 1 #入出力ノード数\n",
    "n_hidden = 400  #隠れ層 -> 数が多い程，学習モデルの複雑さが増加\n",
    "\n",
    "model = Sequential()\n",
    "model.add(LSTM(n_hidden, input_shape=(length_of_sequence, in_out_neurons), return_sequences=False))\n",
    "model.add(Dense(in_out_neurons))\n",
    "model.add(Activation(\"linear\"))\n",
    "optimizer = Adam(learning_rate=0.001)\n",
    "model.compile(loss=\"mean_squared_error\", optimizer=optimizer, metrics=[\"accuracy\"])"
   ]
  },
  {
   "cell_type": "code",
   "execution_count": 4,
   "metadata": {},
   "outputs": [
    {
     "data": {
      "text/plain": [
       "(8645, 12, 1)"
      ]
     },
     "execution_count": 4,
     "metadata": {},
     "output_type": "execute_result"
    }
   ],
   "source": [
    "y.shape"
   ]
  },
  {
   "cell_type": "code",
   "execution_count": 5,
   "metadata": {},
   "outputs": [
    {
     "name": "stdout",
     "output_type": "stream",
     "text": [
      "Epoch 1/100\n",
      "217/217 [==============================] - 13s 50ms/step - loss: 26887.0547 - accuracy: 0.0140 - val_loss: 15812.4189 - val_accuracy: 0.0069\n",
      "Epoch 2/100\n",
      "217/217 [==============================] - 10s 47ms/step - loss: 19915.5449 - accuracy: 0.0140 - val_loss: 14267.6641 - val_accuracy: 0.0069\n",
      "Epoch 3/100\n",
      "217/217 [==============================] - 10s 47ms/step - loss: 18859.5820 - accuracy: 0.0140 - val_loss: 14365.9688 - val_accuracy: 0.0069\n",
      "Epoch 4/100\n",
      "217/217 [==============================] - 10s 47ms/step - loss: 18776.5020 - accuracy: 0.0140 - val_loss: 14452.4307 - val_accuracy: 0.0069\n",
      "Epoch 5/100\n",
      "217/217 [==============================] - 11s 50ms/step - loss: 18781.1426 - accuracy: 0.0140 - val_loss: 14458.3516 - val_accuracy: 0.0069\n",
      "Epoch 6/100\n",
      "217/217 [==============================] - 11s 49ms/step - loss: 18777.6367 - accuracy: 0.0140 - val_loss: 14437.4053 - val_accuracy: 0.0069\n",
      "Epoch 7/100\n",
      "217/217 [==============================] - 10s 47ms/step - loss: 17673.4336 - accuracy: 0.0139 - val_loss: 14742.7168 - val_accuracy: 0.0069\n",
      "Epoch 8/100\n",
      "217/217 [==============================] - 10s 47ms/step - loss: 16692.3281 - accuracy: 0.0139 - val_loss: 15771.6914 - val_accuracy: 0.0069\n",
      "Epoch 9/100\n",
      "217/217 [==============================] - 10s 48ms/step - loss: 15782.5811 - accuracy: 0.0139 - val_loss: 15089.6924 - val_accuracy: 0.0069\n",
      "Epoch 10/100\n",
      "217/217 [==============================] - 10s 48ms/step - loss: 12228.5195 - accuracy: 0.0140 - val_loss: 13128.1826 - val_accuracy: 0.0069\n",
      "Epoch 11/100\n",
      "217/217 [==============================] - 11s 48ms/step - loss: 10662.2383 - accuracy: 0.0140 - val_loss: 12608.0820 - val_accuracy: 0.0069\n",
      "Epoch 12/100\n",
      "217/217 [==============================] - 10s 48ms/step - loss: 10565.2158 - accuracy: 0.0140 - val_loss: 12508.2080 - val_accuracy: 0.0069\n",
      "Epoch 13/100\n",
      "217/217 [==============================] - 10s 48ms/step - loss: 10141.8350 - accuracy: 0.0139 - val_loss: 14601.8613 - val_accuracy: 0.0069\n",
      "Epoch 14/100\n",
      "217/217 [==============================] - 10s 48ms/step - loss: 9561.6035 - accuracy: 0.0139 - val_loss: 10081.4424 - val_accuracy: 0.0069\n",
      "Epoch 15/100\n",
      "217/217 [==============================] - 11s 51ms/step - loss: 8594.1484 - accuracy: 0.0140 - val_loss: 9825.2842 - val_accuracy: 0.0069\n",
      "Epoch 16/100\n",
      "217/217 [==============================] - 11s 52ms/step - loss: 8061.6929 - accuracy: 0.0140 - val_loss: 9591.3555 - val_accuracy: 0.0069\n",
      "Epoch 17/100\n",
      "217/217 [==============================] - 11s 51ms/step - loss: 7924.2578 - accuracy: 0.0134 - val_loss: 8359.4961 - val_accuracy: 0.0069\n",
      "Epoch 18/100\n",
      "217/217 [==============================] - 11s 51ms/step - loss: 7313.0571 - accuracy: 0.0137 - val_loss: 8678.1289 - val_accuracy: 0.0069\n",
      "Epoch 19/100\n",
      "217/217 [==============================] - 11s 51ms/step - loss: 7043.6812 - accuracy: 0.0133 - val_loss: 8602.9209 - val_accuracy: 0.0069\n",
      "Epoch 20/100\n",
      "217/217 [==============================] - 11s 50ms/step - loss: 6674.1392 - accuracy: 0.0136 - val_loss: 11087.2656 - val_accuracy: 0.0069\n",
      "Epoch 21/100\n",
      "217/217 [==============================] - 11s 51ms/step - loss: 5935.3730 - accuracy: 0.0140 - val_loss: 9735.1016 - val_accuracy: 0.0069\n",
      "Epoch 22/100\n",
      "217/217 [==============================] - 11s 50ms/step - loss: 5566.9629 - accuracy: 0.0137 - val_loss: 10376.4824 - val_accuracy: 0.0069\n",
      "Epoch 23/100\n",
      "217/217 [==============================] - 11s 51ms/step - loss: 5132.5488 - accuracy: 0.0132 - val_loss: 9439.0830 - val_accuracy: 0.0069\n",
      "Epoch 24/100\n",
      "217/217 [==============================] - 11s 51ms/step - loss: 4779.1670 - accuracy: 0.0130 - val_loss: 8711.7637 - val_accuracy: 0.0069\n",
      "Epoch 25/100\n",
      "217/217 [==============================] - 11s 51ms/step - loss: 4292.2476 - accuracy: 0.0132 - val_loss: 8082.3398 - val_accuracy: 0.0064\n",
      "Epoch 26/100\n",
      "217/217 [==============================] - 11s 51ms/step - loss: 4406.7207 - accuracy: 0.0133 - val_loss: 7478.8096 - val_accuracy: 0.0069\n",
      "Epoch 27/100\n",
      "217/217 [==============================] - 11s 51ms/step - loss: 4059.4399 - accuracy: 0.0127 - val_loss: 6370.1353 - val_accuracy: 0.0069\n",
      "Epoch 28/100\n",
      "217/217 [==============================] - 11s 51ms/step - loss: 3605.8384 - accuracy: 0.0121 - val_loss: 7445.4961 - val_accuracy: 0.0069\n",
      "Epoch 29/100\n",
      "217/217 [==============================] - 11s 50ms/step - loss: 3602.2537 - accuracy: 0.0120 - val_loss: 6994.2549 - val_accuracy: 0.0069\n",
      "Epoch 30/100\n",
      "217/217 [==============================] - 11s 50ms/step - loss: 3350.9705 - accuracy: 0.0123 - val_loss: 6906.0854 - val_accuracy: 0.0069\n",
      "Epoch 31/100\n",
      "217/217 [==============================] - 11s 50ms/step - loss: 3140.6069 - accuracy: 0.0124 - val_loss: 7855.5693 - val_accuracy: 0.0069\n",
      "Epoch 32/100\n",
      "217/217 [==============================] - 11s 50ms/step - loss: 2982.5591 - accuracy: 0.0120 - val_loss: 8444.9600 - val_accuracy: 0.0069\n",
      "Epoch 33/100\n",
      "217/217 [==============================] - 11s 50ms/step - loss: 2880.2378 - accuracy: 0.0117 - val_loss: 10351.7393 - val_accuracy: 0.0069\n",
      "Epoch 34/100\n",
      "217/217 [==============================] - 11s 50ms/step - loss: 3075.4529 - accuracy: 0.0116 - val_loss: 7179.3223 - val_accuracy: 0.0069\n",
      "Epoch 35/100\n",
      "217/217 [==============================] - 11s 50ms/step - loss: 2804.4077 - accuracy: 0.0116 - val_loss: 8749.4824 - val_accuracy: 0.0069\n",
      "Epoch 36/100\n",
      "217/217 [==============================] - 11s 50ms/step - loss: 2797.2891 - accuracy: 0.0116 - val_loss: 7087.8931 - val_accuracy: 0.0069\n",
      "Epoch 37/100\n",
      "217/217 [==============================] - 11s 50ms/step - loss: 2583.1179 - accuracy: 0.0120 - val_loss: 7725.9224 - val_accuracy: 0.0069\n",
      "Epoch 38/100\n",
      "217/217 [==============================] - 11s 50ms/step - loss: 2419.4988 - accuracy: 0.0114 - val_loss: 5128.1201 - val_accuracy: 0.0069\n",
      "Epoch 39/100\n",
      "217/217 [==============================] - 11s 50ms/step - loss: 2234.5964 - accuracy: 0.0119 - val_loss: 5523.6899 - val_accuracy: 0.0069\n",
      "Epoch 40/100\n",
      "217/217 [==============================] - 11s 50ms/step - loss: 2139.7329 - accuracy: 0.0114 - val_loss: 7495.3003 - val_accuracy: 0.0069\n",
      "Epoch 41/100\n",
      "217/217 [==============================] - 11s 51ms/step - loss: 2305.8586 - accuracy: 0.0120 - val_loss: 7587.8853 - val_accuracy: 0.0069\n",
      "Epoch 42/100\n",
      "217/217 [==============================] - 12s 56ms/step - loss: 2205.7151 - accuracy: 0.0111 - val_loss: 6663.4209 - val_accuracy: 0.0069\n",
      "Epoch 43/100\n",
      "217/217 [==============================] - 12s 56ms/step - loss: 1967.7083 - accuracy: 0.0117 - val_loss: 4497.0029 - val_accuracy: 0.0069\n",
      "Epoch 44/100\n",
      "217/217 [==============================] - 12s 57ms/step - loss: 1849.8105 - accuracy: 0.0114 - val_loss: 5907.8804 - val_accuracy: 0.0069\n",
      "Epoch 45/100\n",
      "217/217 [==============================] - 13s 59ms/step - loss: 1892.9475 - accuracy: 0.0104 - val_loss: 6002.6836 - val_accuracy: 0.0069\n",
      "Epoch 46/100\n",
      "217/217 [==============================] - 13s 59ms/step - loss: 1934.1741 - accuracy: 0.0108 - val_loss: 4798.5356 - val_accuracy: 0.0069\n",
      "Epoch 47/100\n",
      "217/217 [==============================] - 13s 59ms/step - loss: 1931.0591 - accuracy: 0.0104 - val_loss: 6635.1968 - val_accuracy: 0.0064\n",
      "Epoch 48/100\n",
      "217/217 [==============================] - 16s 72ms/step - loss: 1727.9487 - accuracy: 0.0111 - val_loss: 4963.2632 - val_accuracy: 0.0069\n",
      "Epoch 49/100\n",
      "217/217 [==============================] - 14s 64ms/step - loss: 1838.5640 - accuracy: 0.0106 - val_loss: 5761.2920 - val_accuracy: 0.0069\n",
      "Epoch 50/100\n",
      "217/217 [==============================] - 13s 58ms/step - loss: 1891.5326 - accuracy: 0.0108 - val_loss: 5843.9268 - val_accuracy: 0.0069\n",
      "Epoch 51/100\n",
      "217/217 [==============================] - 12s 53ms/step - loss: 1614.2043 - accuracy: 0.0111 - val_loss: 7904.4946 - val_accuracy: 0.0069\n",
      "Epoch 52/100\n",
      "217/217 [==============================] - 12s 53ms/step - loss: 1725.5354 - accuracy: 0.0097 - val_loss: 6121.2236 - val_accuracy: 0.0064\n",
      "Epoch 53/100\n",
      "217/217 [==============================] - 12s 54ms/step - loss: 1638.3556 - accuracy: 0.0108 - val_loss: 5223.2749 - val_accuracy: 0.0069\n",
      "Epoch 54/100\n",
      "217/217 [==============================] - 12s 55ms/step - loss: 1647.0680 - accuracy: 0.0108 - val_loss: 5661.0884 - val_accuracy: 0.0069\n",
      "Epoch 55/100\n",
      "217/217 [==============================] - 12s 55ms/step - loss: 2023.2539 - accuracy: 0.0113 - val_loss: 5683.0112 - val_accuracy: 0.0069\n",
      "Epoch 56/100\n",
      "217/217 [==============================] - 12s 55ms/step - loss: 1546.6799 - accuracy: 0.0108 - val_loss: 5434.2954 - val_accuracy: 0.0069\n",
      "Epoch 57/100\n",
      "217/217 [==============================] - 12s 56ms/step - loss: 1601.2874 - accuracy: 0.0101 - val_loss: 6370.5386 - val_accuracy: 0.0069\n",
      "Epoch 58/100\n",
      "217/217 [==============================] - 12s 55ms/step - loss: 1546.7023 - accuracy: 0.0107 - val_loss: 5469.8525 - val_accuracy: 0.0069\n",
      "Epoch 59/100\n",
      "217/217 [==============================] - 12s 55ms/step - loss: 1522.3701 - accuracy: 0.0098 - val_loss: 6194.9995 - val_accuracy: 0.0046\n",
      "Epoch 60/100\n",
      "217/217 [==============================] - 12s 55ms/step - loss: 1514.1107 - accuracy: 0.0106 - val_loss: 6050.2598 - val_accuracy: 0.0069\n",
      "Epoch 61/100\n",
      "217/217 [==============================] - 12s 55ms/step - loss: 1629.2740 - accuracy: 0.0114 - val_loss: 5365.9556 - val_accuracy: 0.0069\n",
      "Epoch 62/100\n",
      "217/217 [==============================] - 12s 53ms/step - loss: 1454.8114 - accuracy: 0.0113 - val_loss: 6022.5024 - val_accuracy: 0.0069\n",
      "Epoch 63/100\n",
      "217/217 [==============================] - 12s 55ms/step - loss: 1511.4524 - accuracy: 0.0107 - val_loss: 5969.9780 - val_accuracy: 0.0069\n"
     ]
    },
    {
     "data": {
      "text/plain": [
       "<keras.src.callbacks.History at 0x2a5c145f4d0>"
      ]
     },
     "execution_count": 5,
     "metadata": {},
     "output_type": "execute_result"
    }
   ],
   "source": [
    "ES = EarlyStopping(mode='auto', patience=20)\n",
    "model.fit(y, x,\n",
    "          epochs=100, #100 epochで学習\n",
    "          validation_split=0.2, #学習データの10%をvalidationに用いる\n",
    "          callbacks=[ES]\n",
    "          )"
   ]
  },
  {
   "cell_type": "code",
   "execution_count": 6,
   "metadata": {},
   "outputs": [
    {
     "name": "stdout",
     "output_type": "stream",
     "text": [
      "271/271 [==============================] - 6s 19ms/step\n",
      "271/271 [==============================] - 5s 20ms/step - loss: 2230.2708 - accuracy: 0.0095\n"
     ]
    },
    {
     "data": {
      "text/plain": [
       "[2230.270751953125, 0.009485251270234585]"
      ]
     },
     "execution_count": 6,
     "metadata": {},
     "output_type": "execute_result"
    }
   ],
   "source": [
    "predicted = model.predict(y)\n",
    "model.evaluate(y,x)"
   ]
  },
  {
   "cell_type": "code",
   "execution_count": 7,
   "metadata": {},
   "outputs": [
    {
     "data": {
      "text/plain": [
       "array([[ 31.554203],\n",
       "       [ 27.127932],\n",
       "       [ 20.854944],\n",
       "       ...,\n",
       "       [148.67934 ],\n",
       "       [129.36005 ],\n",
       "       [112.66136 ]], dtype=float32)"
      ]
     },
     "execution_count": 7,
     "metadata": {},
     "output_type": "execute_result"
    }
   ],
   "source": [
    "predicted"
   ]
  },
  {
   "cell_type": "code",
   "execution_count": 14,
   "metadata": {},
   "outputs": [
    {
     "data": {
      "image/png": "[encoded data removed]",
      "text/plain": [
       "<Figure size 640x480 with 1 Axes>"
      ]
     },
     "metadata": {},
     "output_type": "display_data"
    }
   ],
   "source": [
    "plt.figure()\n",
    "plt.plot(range(0,len(predicted)),predicted, color=\"r\", label=\"predict_data\")\n",
    "plt.plot(range(0, len(x)), x, color=\"b\", label=\"row_data\", alpha=0.5)\n",
    "plt.legend()\n",
    "plt.show()"
   ]
  },
  {
   "cell_type": "code",
   "execution_count": 9,
   "metadata": {},
   "outputs": [
    {
     "name": "stdout",
     "output_type": "stream",
     "text": [
      "[[[ 1.    ]\n",
      "  [ 1.    ]\n",
      "  [ 1.    ]\n",
      "  ...\n",
      "  [ 0.3788]\n",
      "  [ 0.66  ]\n",
      "  [ 0.    ]]\n",
      "\n",
      " [[ 1.    ]\n",
      "  [ 1.    ]\n",
      "  [ 1.    ]\n",
      "  ...\n",
      "  [ 0.3485]\n",
      "  [ 0.66  ]\n",
      "  [ 0.1343]]\n",
      "\n",
      " [[ 1.    ]\n",
      "  [ 1.    ]\n",
      "  [ 1.    ]\n",
      "  ...\n",
      "  [ 0.3485]\n",
      "  [ 0.76  ]\n",
      "  [ 0.    ]]\n",
      "\n",
      " ...\n",
      "\n",
      " [[ 1.    ]\n",
      "  [ 1.    ]\n",
      "  [12.    ]\n",
      "  ...\n",
      "  [ 0.2576]\n",
      "  [ 0.6   ]\n",
      "  [ 0.1642]]\n",
      "\n",
      " [[ 1.    ]\n",
      "  [ 1.    ]\n",
      "  [12.    ]\n",
      "  ...\n",
      "  [ 0.2727]\n",
      "  [ 0.56  ]\n",
      "  [ 0.1343]]\n",
      "\n",
      " [[ 1.    ]\n",
      "  [ 1.    ]\n",
      "  [12.    ]\n",
      "  ...\n",
      "  [ 0.2727]\n",
      "  [ 0.65  ]\n",
      "  [ 0.1343]]]\n"
     ]
    }
   ],
   "source": [
    "z = test_data2[:, :12]\n",
    "z = z.reshape(z.shape[0], z.shape[1],1)\n",
    "print(z)"
   ]
  },
  {
   "cell_type": "code",
   "execution_count": 15,
   "metadata": {},
   "outputs": [
    {
     "name": "stdout",
     "output_type": "stream",
     "text": [
      "273/273 [==============================] - 5s 19ms/step\n",
      "[[ 37.795444]\n",
      " [ 26.96441 ]\n",
      " [ 28.390812]\n",
      " ...\n",
      " [204.35619 ]\n",
      " [143.16725 ]\n",
      " [105.63202 ]]\n"
     ]
    },
    {
     "data": {
      "image/png": "[encoded data removed]",
      "text/plain": [
       "<Figure size 640x480 with 1 Axes>"
      ]
     },
     "metadata": {},
     "output_type": "display_data"
    }
   ],
   "source": [
    "predicted2 = model.predict(z)\n",
    "print(predicted2)\n",
    "\n",
    "plt.figure()\n",
    "plt.plot(range(0,len(predicted2)),predicted2, color=\"r\", label=\"predict_data\")\n",
    "plt.legend()\n",
    "plt.show()\n",
    "#予測の精度が悪いか？"
   ]
  }
 ],
 "metadata": {
  "kernelspec": {
   "display_name": "VE4071-3116",
   "language": "python",
   "name": "python3"
  },
  "language_info": {
   "codemirror_mode": {
    "name": "ipython",
    "version": 3
   },
   "file_extension": ".py",
   "mimetype": "text/x-python",
   "name": "python",
   "nbconvert_exporter": "python",
   "pygments_lexer": "ipython3",
   "version": "3.11.6"
  }
 },
 "nbformat": 4,
 "nbformat_minor": 2
}
