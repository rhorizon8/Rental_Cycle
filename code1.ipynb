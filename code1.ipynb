{
 "cells": [
  {
   "cell_type": "code",
   "execution_count": null,
   "metadata": {},
   "outputs": [],
   "source": [
    "from tensorflow.keras.models import Sequential\n",
    "from tensorflow.keras.layers import Dense, Activation\n",
    "from tensorflow.keras.layers import LSTM\n",
    "from tensorflow.keras.optimizers import Adam\n",
    "from tensorflow.keras.callbacks import EarlyStopping\n",
    "import numpy as np\n",
    "import matplotlib.pyplot as plt\n",
    "import pandas"
   ]
  },
  {
   "cell_type": "code",
   "execution_count": null,
   "metadata": {},
   "outputs": [],
   "source": [
    "train_file = \"./train.tsv\"\n",
    "test_file = \"./test.tsv\"\n",
    "\n",
    "train_data = pandas.read_csv(train_file, delimiter='\\t').to_numpy()\n",
    "train_data2 = np.empty((train_data.shape[0], train_data.shape[1]-2))\n",
    "train_data2[:, 0:] = train_data[:, 2:]\n",
    "train_data2[:,0:1] = train_data2[:,0:1] / 4.0   #季節を0～1に正規化\n",
    "train_data2[:,2:3] = train_data2[:, 2:3] / 6.0 #月を0～1に正規化\n",
    "train_data2[:,3:4] = train_data2[:, 3:4] / 11.5 #時間を0～1に正規化\n",
    "train_data2[:,5:6] = train_data2[:,5:6] / 6.0   #曜日を0～1に正規化\n",
    "train_data2[:,7:8] = train_data2[:,7:8] / 4.0   #天気を0～1に正規化\n",
    "train_data2 = train_data2#.astype(np.float32)\n",
    "rnd = np.random.default_rng()\n",
    "rnd.shuffle(train_data2,axis=0)\n",
    "\n",
    "test_data = pandas.read_csv(test_file, delimiter='\\t').to_numpy()\n",
    "test_data2 = np.empty((test_data.shape[0], test_data.shape[1]-2))\n",
    "test_data2[:, 0:] = test_data[:, 2:]\n",
    "test_data2[:,3:4] = test_data2[:, 3:4] / 12.0 #月を0～1に正規化\n",
    "test_data2[:,5:6] = test_data2[:,5:6] / 6.0   #曜日を0～1に正規化\n",
    "test_data2[:,7:8] = test_data2[:,7:8] / 4.0   #天気を0～1に正規化\n",
    "test_data2 = test_data2.astype(np.float32)\n",
    "\n",
    "display(train_data2)\n",
    "display(test_data2)\n",
    "\n",
    "x = train_data2[:, 12:]\n",
    "x = x.reshape(x.shape[0], 1)\n",
    "#print(x)\n",
    "y = train_data2[:, :12]\n",
    "y = y.reshape(y.shape[0], y.shape[1],1)\n",
    "#print(y)\n",
    "test_y = test_data2.reshape(test_data2.shape[0], test_data2.shape[1], 1)"
   ]
  },
  {
   "cell_type": "code",
   "execution_count": null,
   "metadata": {},
   "outputs": [],
   "source": [
    "length_of_sequence = y.shape[1]\n",
    "#print(length_of_sequence)\n",
    "in_out_neurons = 1 #入出力ノード数\n",
    "n_hidden = 500  #隠れ層 -> 数が多い程，学習モデルの複雑さが増加\n",
    "\n",
    "model = Sequential()\n",
    "model.add(LSTM(n_hidden, input_shape=(length_of_sequence, in_out_neurons), return_sequences=False))\n",
    "model.add(Dense(in_out_neurons))\n",
    "model.add(Activation(\"linear\"))\n",
    "optimizer = Adam(learning_rate=0.001)\n",
    "model.compile(loss=\"mean_squared_error\", optimizer=optimizer, metrics=[\"accuracy\"])"
   ]
  },
  {
   "cell_type": "code",
   "execution_count": null,
   "metadata": {},
   "outputs": [],
   "source": [
    "y.shape"
   ]
  },
  {
   "cell_type": "code",
   "execution_count": null,
   "metadata": {},
   "outputs": [],
   "source": [
    "ES = EarlyStopping(mode='auto', patience=20)\n",
    "model.fit(y, x,\n",
    "          epochs=200, #100 epochで学習\n",
    "          validation_split=0.2, #学習データの10%をvalidationに用いる\n",
    "          callbacks=[ES]\n",
    "          )"
   ]
  },
  {
   "cell_type": "code",
   "execution_count": null,
   "metadata": {},
   "outputs": [],
   "source": [
    "predicted = model.predict(y)\n",
    "model.evaluate(y,x)"
   ]
  },
  {
   "cell_type": "code",
   "execution_count": null,
   "metadata": {},
   "outputs": [],
   "source": [
    "r2 = 1 -  np.sum((predicted - x)**2) / np.sum((x - np.mean(x))**2)\n",
    "print(r2)"
   ]
  },
  {
   "cell_type": "code",
   "execution_count": null,
   "metadata": {},
   "outputs": [],
   "source": [
    "predicted"
   ]
  },
  {
   "cell_type": "code",
   "execution_count": null,
   "metadata": {},
   "outputs": [],
   "source": [
    "plt.figure(figsize=(100,10))\n",
    "plt.plot(range(0,len(predicted)),predicted, color=\"r\", label=\"predict_data\")\n",
    "plt.plot(range(0, len(x)), x, color=\"b\", label=\"row_data\", alpha=0.5)\n",
    "plt.legend()\n",
    "plt.show()"
   ]
  }
 ],
 "metadata": {
  "kernelspec": {
   "display_name": "VE4071-3116",
   "language": "python",
   "name": "python3"
  },
  "language_info": {
   "codemirror_mode": {
    "name": "ipython",
    "version": 3
   },
   "file_extension": ".py",
   "mimetype": "text/x-python",
   "name": "python",
   "nbconvert_exporter": "python",
   "pygments_lexer": "ipython3",
   "version": "3.10.12"
  }
 },
 "nbformat": 4,
 "nbformat_minor": 2
}
