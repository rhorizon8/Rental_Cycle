{
 "cells": [
  {
   "cell_type": "code",
   "execution_count": 1,
   "metadata": {},
   "outputs": [
    {
     "name": "stderr",
     "output_type": "stream",
     "text": [
      "2023-11-10 16:58:54.853548: E tensorflow/compiler/xla/stream_executor/cuda/cuda_dnn.cc:9342] Unable to register cuDNN factory: Attempting to register factory for plugin cuDNN when one has already been registered\n",
      "2023-11-10 16:58:54.853607: E tensorflow/compiler/xla/stream_executor/cuda/cuda_fft.cc:609] Unable to register cuFFT factory: Attempting to register factory for plugin cuFFT when one has already been registered\n",
      "2023-11-10 16:58:54.853633: E tensorflow/compiler/xla/stream_executor/cuda/cuda_blas.cc:1518] Unable to register cuBLAS factory: Attempting to register factory for plugin cuBLAS when one has already been registered\n",
      "2023-11-10 16:58:54.859664: I tensorflow/core/platform/cpu_feature_guard.cc:182] This TensorFlow binary is optimized to use available CPU instructions in performance-critical operations.\n",
      "To enable the following instructions: AVX2 FMA, in other operations, rebuild TensorFlow with the appropriate compiler flags.\n"
     ]
    }
   ],
   "source": [
    "from tensorflow.keras.models import Sequential\n",
    "from tensorflow.keras.layers import Dense, Activation\n",
    "from tensorflow.keras.layers import LSTM\n",
    "from tensorflow.keras.optimizers import Adam\n",
    "from tensorflow.keras.callbacks import EarlyStopping\n",
    "import numpy as np\n",
    "import matplotlib.pyplot as plt\n",
    "import pandas"
   ]
  },
  {
   "cell_type": "code",
   "execution_count": 2,
   "metadata": {},
   "outputs": [
    {
     "data": {
      "text/plain": [
       "array([[ 1.    ,  0.    ,  1.    , ...,  0.81  ,  0.    , 16.    ],\n",
       "       [ 1.    ,  0.    ,  1.    , ...,  0.8   ,  0.    , 40.    ],\n",
       "       [ 1.    ,  0.    ,  1.    , ...,  0.8   ,  0.    , 32.    ],\n",
       "       ...,\n",
       "       [ 1.    ,  0.    , 12.    , ...,  0.58  ,  0.194 , 52.    ],\n",
       "       [ 1.    ,  0.    , 12.    , ...,  0.62  ,  0.1343, 38.    ],\n",
       "       [ 1.    ,  0.    , 12.    , ...,  0.66  ,  0.    , 31.    ]],\n",
       "      dtype=float32)"
      ]
     },
     "metadata": {},
     "output_type": "display_data"
    },
    {
     "data": {
      "text/plain": [
       "array([[ 1.    ,  1.    ,  1.    , ...,  0.3788,  0.66  ,  0.    ],\n",
       "       [ 1.    ,  1.    ,  1.    , ...,  0.3485,  0.66  ,  0.1343],\n",
       "       [ 1.    ,  1.    ,  1.    , ...,  0.3485,  0.76  ,  0.    ],\n",
       "       ...,\n",
       "       [ 1.    ,  1.    , 12.    , ...,  0.2576,  0.6   ,  0.1642],\n",
       "       [ 1.    ,  1.    , 12.    , ...,  0.2727,  0.56  ,  0.1343],\n",
       "       [ 1.    ,  1.    , 12.    , ...,  0.2727,  0.65  ,  0.1343]],\n",
       "      dtype=float32)"
      ]
     },
     "metadata": {},
     "output_type": "display_data"
    },
    {
     "name": "stdout",
     "output_type": "stream",
     "text": [
      "[[16.]\n",
      " [40.]\n",
      " [32.]\n",
      " ...\n",
      " [52.]\n",
      " [38.]\n",
      " [31.]]\n",
      "[[[ 1.    ]\n",
      "  [ 0.    ]\n",
      "  [ 1.    ]\n",
      "  ...\n",
      "  [ 0.2879]\n",
      "  [ 0.81  ]\n",
      "  [ 0.    ]]\n",
      "\n",
      " [[ 1.    ]\n",
      "  [ 0.    ]\n",
      "  [ 1.    ]\n",
      "  ...\n",
      "  [ 0.2727]\n",
      "  [ 0.8   ]\n",
      "  [ 0.    ]]\n",
      "\n",
      " [[ 1.    ]\n",
      "  [ 0.    ]\n",
      "  [ 1.    ]\n",
      "  ...\n",
      "  [ 0.2727]\n",
      "  [ 0.8   ]\n",
      "  [ 0.    ]]\n",
      "\n",
      " ...\n",
      "\n",
      " [[ 1.    ]\n",
      "  [ 0.    ]\n",
      "  [12.    ]\n",
      "  ...\n",
      "  [ 0.4091]\n",
      "  [ 0.58  ]\n",
      "  [ 0.194 ]]\n",
      "\n",
      " [[ 1.    ]\n",
      "  [ 0.    ]\n",
      "  [12.    ]\n",
      "  ...\n",
      "  [ 0.3939]\n",
      "  [ 0.62  ]\n",
      "  [ 0.1343]]\n",
      "\n",
      " [[ 1.    ]\n",
      "  [ 0.    ]\n",
      "  [12.    ]\n",
      "  ...\n",
      "  [ 0.3788]\n",
      "  [ 0.66  ]\n",
      "  [ 0.    ]]]\n"
     ]
    }
   ],
   "source": [
    "train_file = \"./train.tsv\"\n",
    "test_file = \"./test.tsv\"\n",
    "\n",
    "train_data = pandas.read_csv(train_file, delimiter='\\t').to_numpy()\n",
    "train_data2 = np.empty((train_data.shape[0], train_data.shape[1]-2))\n",
    "train_data2[:, 0:] = train_data[:, 2:]\n",
    "train_data2[:,3:4] = train_data2[:, 3:4] / 12.0 #月を0～1に正規化\n",
    "train_data2[:,5:6] = train_data2[:,5:6] / 6.0   #曜日を0～1に正規化\n",
    "train_data2[:,7:8] = train_data2[:,7:8] / 4.0   #天気を0～1に正規化\n",
    "train_data2 = train_data2.astype(np.float32)\n",
    "\n",
    "test_data = pandas.read_csv(test_file, delimiter='\\t').to_numpy()\n",
    "test_data2 = np.empty((test_data.shape[0], test_data.shape[1]-2))\n",
    "test_data2[:, 0:] = test_data[:, 2:]\n",
    "test_data2[:,3:4] = test_data2[:, 3:4] / 12.0 #月を0～1に正規化\n",
    "test_data2[:,5:6] = test_data2[:,5:6] / 6.0   #曜日を0～1に正規化\n",
    "test_data2[:,7:8] = test_data2[:,7:8] / 4.0   #天気を0～1に正規化\n",
    "test_data2 = test_data2.astype(np.float32)\n",
    "\n",
    "display(train_data2)\n",
    "display(test_data2)\n",
    "\n",
    "x = train_data2[:, 12:]\n",
    "x = x.reshape(x.shape[0], 1)\n",
    "print(x)\n",
    "y = train_data2[:, :12]\n",
    "y = y.reshape(y.shape[0], y.shape[1],1)\n",
    "print(y)\n",
    "test_y = test_data2.reshape(test_data2.shape[0], test_data2.shape[1], 1)"
   ]
  },
  {
   "cell_type": "code",
   "execution_count": 68,
   "metadata": {},
   "outputs": [],
   "source": [
    "length_of_sequence = y.shape[1]\n",
    "#print(length_of_sequence)\n",
    "in_out_neurons = 1 #入出力ノード数\n",
    "n_hidden = 400  #隠れ層 -> 数が多い程，学習モデルの複雑さが増加\n",
    "\n",
    "model = Sequential()\n",
    "model.add(LSTM(n_hidden, input_shape=(length_of_sequence, in_out_neurons), return_sequences=False))\n",
    "model.add(Dense(in_out_neurons))\n",
    "model.add(Activation(\"linear\"))\n",
    "optimizer = Adam(learning_rate=0.001)\n",
    "model.compile(loss=\"mean_squared_error\", optimizer=optimizer, metrics=[\"accuracy\"])"
   ]
  },
  {
   "cell_type": "code",
   "execution_count": 4,
   "metadata": {},
   "outputs": [
    {
     "data": {
      "text/plain": [
       "(8645, 12, 1)"
      ]
     },
     "execution_count": 4,
     "metadata": {},
     "output_type": "execute_result"
    }
   ],
   "source": [
    "y.shape"
   ]
  },
  {
   "cell_type": "code",
   "execution_count": 79,
   "metadata": {},
   "outputs": [
    {
     "name": "stdout",
     "output_type": "stream",
     "text": [
      "Epoch 1/100\n",
      "230/230 [==============================] - 2s 7ms/step - loss: 2816.1653 - accuracy: 0.0106 - val_loss: 7696.9082 - val_accuracy: 0.0077\n",
      "Epoch 2/100\n",
      "230/230 [==============================] - 2s 7ms/step - loss: 1766.1692 - accuracy: 0.0109 - val_loss: 4653.8862 - val_accuracy: 0.0077\n",
      "Epoch 3/100\n",
      "230/230 [==============================] - 2s 7ms/step - loss: 1702.0424 - accuracy: 0.0094 - val_loss: 4183.3232 - val_accuracy: 0.0077\n",
      "Epoch 4/100\n",
      "230/230 [==============================] - 2s 7ms/step - loss: 1685.2666 - accuracy: 0.0114 - val_loss: 4460.4229 - val_accuracy: 0.0077\n",
      "Epoch 5/100\n",
      "230/230 [==============================] - 2s 7ms/step - loss: 1377.7109 - accuracy: 0.0108 - val_loss: 4317.7549 - val_accuracy: 0.0077\n",
      "Epoch 6/100\n",
      "230/230 [==============================] - 2s 7ms/step - loss: 1217.0126 - accuracy: 0.0114 - val_loss: 4876.9868 - val_accuracy: 0.0077\n",
      "Epoch 7/100\n",
      "230/230 [==============================] - 2s 7ms/step - loss: 1326.1125 - accuracy: 0.0112 - val_loss: 7410.5942 - val_accuracy: 0.0077\n",
      "Epoch 8/100\n",
      "230/230 [==============================] - 2s 7ms/step - loss: 1681.3441 - accuracy: 0.0106 - val_loss: 5084.0850 - val_accuracy: 0.0077\n",
      "Epoch 9/100\n",
      "230/230 [==============================] - 2s 7ms/step - loss: 1423.4365 - accuracy: 0.0112 - val_loss: 5711.9868 - val_accuracy: 0.0077\n",
      "Epoch 10/100\n",
      "230/230 [==============================] - 2s 7ms/step - loss: 1135.3553 - accuracy: 0.0112 - val_loss: 5199.5830 - val_accuracy: 0.0077\n",
      "Epoch 11/100\n",
      "230/230 [==============================] - 2s 7ms/step - loss: 1173.2344 - accuracy: 0.0116 - val_loss: 3844.1396 - val_accuracy: 0.0077\n",
      "Epoch 12/100\n",
      "230/230 [==============================] - 2s 7ms/step - loss: 1364.5647 - accuracy: 0.0109 - val_loss: 5274.4053 - val_accuracy: 0.0077\n",
      "Epoch 13/100\n",
      "230/230 [==============================] - 2s 7ms/step - loss: 1707.7596 - accuracy: 0.0118 - val_loss: 4653.7114 - val_accuracy: 0.0062\n",
      "Epoch 14/100\n",
      "230/230 [==============================] - 2s 7ms/step - loss: 1220.0856 - accuracy: 0.0122 - val_loss: 5256.3813 - val_accuracy: 0.0077\n",
      "Epoch 15/100\n",
      "230/230 [==============================] - 2s 7ms/step - loss: 1115.1392 - accuracy: 0.0116 - val_loss: 4674.9697 - val_accuracy: 0.0077\n",
      "Epoch 16/100\n",
      "230/230 [==============================] - 2s 7ms/step - loss: 1053.3336 - accuracy: 0.0105 - val_loss: 4144.8926 - val_accuracy: 0.0077\n",
      "Epoch 17/100\n",
      "230/230 [==============================] - 2s 7ms/step - loss: 1061.5865 - accuracy: 0.0120 - val_loss: 5023.5723 - val_accuracy: 0.0077\n",
      "Epoch 18/100\n",
      "230/230 [==============================] - 2s 7ms/step - loss: 1114.5944 - accuracy: 0.0109 - val_loss: 4446.8979 - val_accuracy: 0.0077\n",
      "Epoch 19/100\n",
      "230/230 [==============================] - 2s 7ms/step - loss: 1445.6838 - accuracy: 0.0109 - val_loss: 4447.4810 - val_accuracy: 0.0077\n",
      "Epoch 20/100\n",
      "230/230 [==============================] - 2s 7ms/step - loss: 1069.1122 - accuracy: 0.0121 - val_loss: 4701.4160 - val_accuracy: 0.0077\n",
      "Epoch 21/100\n",
      "230/230 [==============================] - 2s 7ms/step - loss: 1125.0721 - accuracy: 0.0117 - val_loss: 4574.8013 - val_accuracy: 0.0077\n",
      "Epoch 22/100\n",
      "230/230 [==============================] - 2s 7ms/step - loss: 1530.7716 - accuracy: 0.0118 - val_loss: 4529.8916 - val_accuracy: 0.0077\n",
      "Epoch 23/100\n",
      "230/230 [==============================] - 2s 7ms/step - loss: 1131.9987 - accuracy: 0.0109 - val_loss: 4713.9741 - val_accuracy: 0.0077\n",
      "Epoch 24/100\n",
      "230/230 [==============================] - 2s 7ms/step - loss: 988.2548 - accuracy: 0.0121 - val_loss: 4380.9604 - val_accuracy: 0.0077\n",
      "Epoch 25/100\n",
      "230/230 [==============================] - 2s 7ms/step - loss: 1371.3530 - accuracy: 0.0116 - val_loss: 4253.4688 - val_accuracy: 0.0077\n",
      "Epoch 26/100\n",
      "230/230 [==============================] - 2s 7ms/step - loss: 1038.1986 - accuracy: 0.0116 - val_loss: 3718.1709 - val_accuracy: 0.0077\n",
      "Epoch 27/100\n",
      "230/230 [==============================] - 2s 7ms/step - loss: 932.7794 - accuracy: 0.0109 - val_loss: 4585.8237 - val_accuracy: 0.0077\n",
      "Epoch 28/100\n",
      "230/230 [==============================] - 2s 7ms/step - loss: 1153.7498 - accuracy: 0.0113 - val_loss: 4436.6714 - val_accuracy: 0.0077\n",
      "Epoch 29/100\n",
      "230/230 [==============================] - 2s 7ms/step - loss: 984.6432 - accuracy: 0.0128 - val_loss: 4617.6465 - val_accuracy: 0.0077\n",
      "Epoch 30/100\n",
      "230/230 [==============================] - 2s 7ms/step - loss: 1195.9167 - accuracy: 0.0110 - val_loss: 7039.6069 - val_accuracy: 0.0077\n",
      "Epoch 31/100\n",
      "230/230 [==============================] - 2s 7ms/step - loss: 1459.6125 - accuracy: 0.0122 - val_loss: 4646.0596 - val_accuracy: 0.0077\n",
      "Epoch 32/100\n",
      "230/230 [==============================] - 2s 7ms/step - loss: 887.5087 - accuracy: 0.0118 - val_loss: 4602.0962 - val_accuracy: 0.0077\n",
      "Epoch 33/100\n",
      "230/230 [==============================] - 2s 7ms/step - loss: 842.7607 - accuracy: 0.0117 - val_loss: 4860.2524 - val_accuracy: 0.0077\n",
      "Epoch 34/100\n",
      "230/230 [==============================] - 2s 7ms/step - loss: 1349.4119 - accuracy: 0.0122 - val_loss: 5484.5669 - val_accuracy: 0.0077\n",
      "Epoch 35/100\n",
      "230/230 [==============================] - 2s 7ms/step - loss: 919.8288 - accuracy: 0.0114 - val_loss: 4032.5605 - val_accuracy: 0.0077\n",
      "Epoch 36/100\n",
      "230/230 [==============================] - 2s 7ms/step - loss: 886.8085 - accuracy: 0.0110 - val_loss: 4595.2383 - val_accuracy: 0.0077\n",
      "Epoch 37/100\n",
      "230/230 [==============================] - 2s 7ms/step - loss: 878.3632 - accuracy: 0.0124 - val_loss: 4438.5015 - val_accuracy: 0.0077\n",
      "Epoch 38/100\n",
      "230/230 [==============================] - 2s 7ms/step - loss: 863.6683 - accuracy: 0.0118 - val_loss: 4794.4932 - val_accuracy: 0.0077\n",
      "Epoch 39/100\n",
      "230/230 [==============================] - 2s 7ms/step - loss: 878.0847 - accuracy: 0.0121 - val_loss: 4579.6626 - val_accuracy: 0.0077\n",
      "Epoch 40/100\n",
      "230/230 [==============================] - 2s 7ms/step - loss: 1527.0898 - accuracy: 0.0120 - val_loss: 4214.2832 - val_accuracy: 0.0077\n",
      "Epoch 41/100\n",
      "230/230 [==============================] - 2s 7ms/step - loss: 842.1967 - accuracy: 0.0124 - val_loss: 3860.3840 - val_accuracy: 0.0077\n",
      "Epoch 42/100\n",
      "230/230 [==============================] - 2s 7ms/step - loss: 1084.6187 - accuracy: 0.0114 - val_loss: 4558.0127 - val_accuracy: 0.0077\n",
      "Epoch 43/100\n",
      "230/230 [==============================] - 2s 7ms/step - loss: 810.2365 - accuracy: 0.0125 - val_loss: 4748.3213 - val_accuracy: 0.0077\n",
      "Epoch 44/100\n",
      "230/230 [==============================] - 2s 7ms/step - loss: 796.2009 - accuracy: 0.0121 - val_loss: 4431.6670 - val_accuracy: 0.0077\n",
      "Epoch 45/100\n",
      "230/230 [==============================] - 2s 7ms/step - loss: 762.5747 - accuracy: 0.0116 - val_loss: 4760.2881 - val_accuracy: 0.0077\n",
      "Epoch 46/100\n",
      "230/230 [==============================] - 2s 7ms/step - loss: 823.2997 - accuracy: 0.0124 - val_loss: 4022.8916 - val_accuracy: 0.0077\n"
     ]
    },
    {
     "data": {
      "text/plain": [
       "<keras.src.callbacks.History at 0x7f2848258100>"
      ]
     },
     "execution_count": 79,
     "metadata": {},
     "output_type": "execute_result"
    }
   ],
   "source": [
    "ES = EarlyStopping(mode='auto', patience=20)\n",
    "model.fit(y, x,\n",
    "          epochs=100, #100 epochで学習\n",
    "          validation_split=0.15, #学習データの10%をvalidationに用いる\n",
    "          callbacks=[ES]\n",
    "          )"
   ]
  },
  {
   "cell_type": "code",
   "execution_count": 80,
   "metadata": {},
   "outputs": [
    {
     "name": "stdout",
     "output_type": "stream",
     "text": [
      "271/271 [==============================] - 1s 3ms/step\n",
      "271/271 [==============================] - 1s 4ms/step - loss: 1177.3018 - accuracy: 0.0118\n"
     ]
    },
    {
     "data": {
      "text/plain": [
       "[1177.3017578125, 0.011798727326095104]"
      ]
     },
     "execution_count": 80,
     "metadata": {},
     "output_type": "execute_result"
    }
   ],
   "source": [
    "predicted = model.predict(y)\n",
    "model.evaluate(y,x)"
   ]
  },
  {
   "cell_type": "code",
   "execution_count": 81,
   "metadata": {},
   "outputs": [
    {
     "data": {
      "text/plain": [
       "array([[ 26.89957 ],\n",
       "       [ 25.503532],\n",
       "       [ 22.66056 ],\n",
       "       ...,\n",
       "       [146.43863 ],\n",
       "       [121.27517 ],\n",
       "       [107.59436 ]], dtype=float32)"
      ]
     },
     "execution_count": 81,
     "metadata": {},
     "output_type": "execute_result"
    }
   ],
   "source": [
    "predicted"
   ]
  },
  {
   "cell_type": "code",
   "execution_count": 82,
   "metadata": {},
   "outputs": [
    {
     "data": {
      "image/png": "[encoded data removed]",
      "text/plain": [
       "<Figure size 640x480 with 1 Axes>"
      ]
     },
     "metadata": {},
     "output_type": "display_data"
    }
   ],
   "source": [
    "plt.figure()\n",
    "plt.plot(range(0,len(predicted)),predicted, color=\"r\", label=\"predict_data\")\n",
    "plt.plot(range(0, len(x)), x, color=\"b\", label=\"row_data\", alpha=0.5)\n",
    "plt.legend()\n",
    "plt.show()"
   ]
  }
 ],
 "metadata": {
  "kernelspec": {
   "display_name": "VE4071-3116",
   "language": "python",
   "name": "python3"
  },
  "language_info": {
   "codemirror_mode": {
    "name": "ipython",
    "version": 3
   },
   "file_extension": ".py",
   "mimetype": "text/x-python",
   "name": "python",
   "nbconvert_exporter": "python",
   "pygments_lexer": "ipython3",
   "version": "3.10.12"
  }
 },
 "nbformat": 4,
 "nbformat_minor": 2
}
