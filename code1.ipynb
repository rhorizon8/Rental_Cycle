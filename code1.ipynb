{
 "cells": [
  {
   "cell_type": "code",
   "execution_count": 2,
   "metadata": {},
   "outputs": [
    {
     "name": "stderr",
     "output_type": "stream",
     "text": [
      "2023-11-08 11:28:56.154764: I tensorflow/core/util/port.cc:110] oneDNN custom operations are on. You may see slightly different numerical results due to floating-point round-off errors from different computation orders. To turn them off, set the environment variable `TF_ENABLE_ONEDNN_OPTS=0`.\n",
      "2023-11-08 11:28:56.178237: I tensorflow/core/platform/cpu_feature_guard.cc:182] This TensorFlow binary is optimized to use available CPU instructions in performance-critical operations.\n",
      "To enable the following instructions: AVX2 AVX_VNNI FMA, in other operations, rebuild TensorFlow with the appropriate compiler flags.\n"
     ]
    }
   ],
   "source": [
    "from tensorflow.keras.models import Sequential\n",
    "from tensorflow.keras.layers import Dense, Activation\n",
    "from tensorflow.keras.layers import LSTM\n",
    "from tensorflow.keras.optimizers import Adam\n",
    "from tensorflow.keras.callbacks import EarlyStopping\n",
    "import numpy as np\n",
    "import matplotlib.pyplot as plt\n",
    "import pandas"
   ]
  },
  {
   "cell_type": "code",
   "execution_count": 31,
   "metadata": {},
   "outputs": [
    {
     "data": {
      "text/plain": [
       "array([[1.000e+00, 1.000e+00, 0.000e+00, ..., 8.100e-01, 0.000e+00,\n",
       "        1.600e+01],\n",
       "       [2.000e+00, 1.000e+00, 0.000e+00, ..., 8.000e-01, 0.000e+00,\n",
       "        4.000e+01],\n",
       "       [3.000e+00, 1.000e+00, 0.000e+00, ..., 8.000e-01, 0.000e+00,\n",
       "        3.200e+01],\n",
       "       ...,\n",
       "       [8.643e+03, 1.000e+00, 0.000e+00, ..., 5.800e-01, 1.940e-01,\n",
       "        5.200e+01],\n",
       "       [8.644e+03, 1.000e+00, 0.000e+00, ..., 6.200e-01, 1.343e-01,\n",
       "        3.800e+01],\n",
       "       [8.645e+03, 1.000e+00, 0.000e+00, ..., 6.600e-01, 0.000e+00,\n",
       "        3.100e+01]])"
      ]
     },
     "metadata": {},
     "output_type": "display_data"
    },
    {
     "data": {
      "text/plain": [
       "array([[8646.0, '2012-01-01', 1.0, ..., 0.37880000472068787,\n",
       "        0.6600000262260437, 0.0],\n",
       "       [8647.0, '2012-01-01', 1.0, ..., 0.34850001335144043,\n",
       "        0.6600000262260437, 0.13429999351501465],\n",
       "       [8648.0, '2012-01-01', 1.0, ..., 0.34850001335144043,\n",
       "        0.7599999904632568, 0.0],\n",
       "       ...,\n",
       "       [17377.0, '2012-12-31', 1.0, ..., 0.25760000944137573,\n",
       "        0.6000000238418579, 0.16419999301433563],\n",
       "       [17378.0, '2012-12-31', 1.0, ..., 0.2727000117301941,\n",
       "        0.5600000023841858, 0.13429999351501465],\n",
       "       [17379.0, '2012-12-31', 1.0, ..., 0.2727000117301941,\n",
       "        0.6499999761581421, 0.13429999351501465]], dtype=object)"
      ]
     },
     "metadata": {},
     "output_type": "display_data"
    },
    {
     "name": "stdout",
     "output_type": "stream",
     "text": [
      "[[16.]\n",
      " [40.]\n",
      " [32.]\n",
      " ...\n",
      " [52.]\n",
      " [38.]\n",
      " [31.]]\n",
      "[[[1.000e+00]\n",
      "  [1.000e+00]\n",
      "  [0.000e+00]\n",
      "  ...\n",
      "  [2.879e-01]\n",
      "  [8.100e-01]\n",
      "  [0.000e+00]]\n",
      "\n",
      " [[2.000e+00]\n",
      "  [1.000e+00]\n",
      "  [0.000e+00]\n",
      "  ...\n",
      "  [2.727e-01]\n",
      "  [8.000e-01]\n",
      "  [0.000e+00]]\n",
      "\n",
      " [[3.000e+00]\n",
      "  [1.000e+00]\n",
      "  [0.000e+00]\n",
      "  ...\n",
      "  [2.727e-01]\n",
      "  [8.000e-01]\n",
      "  [0.000e+00]]\n",
      "\n",
      " ...\n",
      "\n",
      " [[8.643e+03]\n",
      "  [1.000e+00]\n",
      "  [0.000e+00]\n",
      "  ...\n",
      "  [4.091e-01]\n",
      "  [5.800e-01]\n",
      "  [1.940e-01]]\n",
      "\n",
      " [[8.644e+03]\n",
      "  [1.000e+00]\n",
      "  [0.000e+00]\n",
      "  ...\n",
      "  [3.939e-01]\n",
      "  [6.200e-01]\n",
      "  [1.343e-01]]\n",
      "\n",
      " [[8.645e+03]\n",
      "  [1.000e+00]\n",
      "  [0.000e+00]\n",
      "  ...\n",
      "  [3.788e-01]\n",
      "  [6.600e-01]\n",
      "  [0.000e+00]]]\n"
     ]
    }
   ],
   "source": [
    "train_file = \"./train.tsv\"\n",
    "test_file = \"./test.tsv\"\n",
    "train_data = pandas.read_csv(train_file, delimiter='\\t').to_numpy()#.astype(np.float32)\n",
    "# train_data[:, 0] = train_data[:, 0].astype(np.float64)\n",
    "# train_data[:, 2:] = train_data[:, 2:].astype(np.float64)\n",
    "train_data2 = np.empty((train_data.shape[0], train_data.shape[1]-1))\n",
    "train_data2[:, 0] = train_data[:, 0].astype(np.float64)\n",
    "train_data2[:, 1:] = train_data[:, 2:].astype(np.float64)\n",
    "test_data = pandas.read_csv(test_file, delimiter='\\t').to_numpy()#.astype(np.float32)\n",
    "test_data[:, 0] = test_data[:, 0].astype(np.float32)\n",
    "test_data[:, 2:] = test_data[:, 2:].astype(np.float32)\n",
    "\n",
    "display(train_data2)\n",
    "display(test_data)\n",
    "\n",
    "x = train_data2[:, 13:]\n",
    "x = x.reshape(x.shape[0], 1)\n",
    "print(x)\n",
    "y = train_data2[:, :13]\n",
    "y = y.reshape(y.shape[0], y.shape[1], 1)\n",
    "print(y)"
   ]
  },
  {
   "cell_type": "code",
   "execution_count": 39,
   "metadata": {},
   "outputs": [
    {
     "name": "stderr",
     "output_type": "stream",
     "text": [
      "WARNING:absl:`lr` is deprecated in Keras optimizer, please use `learning_rate` or use the legacy optimizer, e.g.,tf.keras.optimizers.legacy.Adam.\n"
     ]
    }
   ],
   "source": [
    "length_of_sequence = 13#train_data.shape[0]\n",
    "#print(length_of_sequence)\n",
    "in_out_neurons = 1 #入出力ノード数\n",
    "n_hidden = 300  #隠れ層 -> 数が多い程，学習モデルの複雑さが増加\n",
    "\n",
    "model = Sequential()\n",
    "model.add(LSTM(n_hidden, batch_input_shape=(None, length_of_sequence, in_out_neurons), return_sequences=False))\n",
    "model.add(Dense(in_out_neurons))\n",
    "model.add(Activation(\"linear\"))\n",
    "optimizer = Adam(lr=0.001)\n",
    "model.compile(loss=\"mean_squared_error\", optimizer=optimizer)"
   ]
  },
  {
   "cell_type": "code",
   "execution_count": 40,
   "metadata": {},
   "outputs": [
    {
     "data": {
      "text/plain": [
       "(8645, 13, 1)"
      ]
     },
     "execution_count": 40,
     "metadata": {},
     "output_type": "execute_result"
    }
   ],
   "source": [
    "y.shape"
   ]
  },
  {
   "cell_type": "code",
   "execution_count": 41,
   "metadata": {},
   "outputs": [
    {
     "name": "stdout",
     "output_type": "stream",
     "text": [
      "Epoch 1/100\n"
     ]
    },
    {
     "name": "stderr",
     "output_type": "stream",
     "text": [
      "2023-11-08 12:13:36.757378: I tensorflow/compiler/xla/stream_executor/cuda/cuda_dnn.cc:432] Loaded cuDNN version 8905\n",
      "2023-11-08 12:13:41.005545: I tensorflow/compiler/xla/stream_executor/cuda/cuda_blas.cc:606] TensorFloat-32 will be used for the matrix multiplication. This will only be logged once.\n",
      "2023-11-08 12:13:41.031180: I tensorflow/compiler/xla/service/service.cc:168] XLA service 0x7f9ea4225680 initialized for platform CUDA (this does not guarantee that XLA will be used). Devices:\n",
      "2023-11-08 12:13:41.031213: I tensorflow/compiler/xla/service/service.cc:176]   StreamExecutor device (0): NVIDIA GeForce RTX 4070 Laptop GPU, Compute Capability 8.9\n",
      "2023-11-08 12:13:41.067194: I tensorflow/compiler/mlir/tensorflow/utils/dump_mlir_util.cc:255] disabling MLIR crash reproducer, set env var `MLIR_CRASH_REPRODUCER_DIRECTORY` to enable.\n"
     ]
    },
    {
     "name": "stdout",
     "output_type": "stream",
     "text": [
      " 3/26 [==>...........................] - ETA: 0s - loss: 41671.4219  "
     ]
    },
    {
     "name": "stderr",
     "output_type": "stream",
     "text": [
      "2023-11-08 12:13:41.351781: I ./tensorflow/compiler/jit/device_compiler.h:186] Compiled cluster using XLA!  This line is logged at most once for the lifetime of the process.\n"
     ]
    },
    {
     "name": "stdout",
     "output_type": "stream",
     "text": [
      "26/26 [==============================] - 8s 25ms/step - loss: 35579.7930 - val_loss: 20742.6191\n",
      "Epoch 2/100\n",
      "26/26 [==============================] - 0s 5ms/step - loss: 31777.8047 - val_loss: 19179.9902\n",
      "Epoch 3/100\n",
      "26/26 [==============================] - 0s 5ms/step - loss: 29923.9824 - val_loss: 17871.8730\n",
      "Epoch 4/100\n",
      "26/26 [==============================] - 0s 6ms/step - loss: 28315.3633 - val_loss: 16772.7441\n",
      "Epoch 5/100\n",
      "26/26 [==============================] - 0s 5ms/step - loss: 26919.3457 - val_loss: 15834.0781\n",
      "Epoch 6/100\n",
      "26/26 [==============================] - 0s 5ms/step - loss: 25685.9668 - val_loss: 15049.5557\n",
      "Epoch 7/100\n",
      "26/26 [==============================] - 0s 5ms/step - loss: 24619.5508 - val_loss: 14373.3594\n",
      "Epoch 8/100\n",
      "26/26 [==============================] - 0s 5ms/step - loss: 23674.1289 - val_loss: 13807.4844\n",
      "Epoch 9/100\n",
      "26/26 [==============================] - 0s 5ms/step - loss: 22843.8750 - val_loss: 13337.9727\n",
      "Epoch 10/100\n",
      "26/26 [==============================] - 0s 5ms/step - loss: 22124.4707 - val_loss: 12957.8516\n",
      "Epoch 11/100\n",
      "26/26 [==============================] - 0s 5ms/step - loss: 21505.7070 - val_loss: 12658.4756\n",
      "Epoch 12/100\n",
      "26/26 [==============================] - 0s 5ms/step - loss: 20979.6113 - val_loss: 12425.1123\n",
      "Epoch 13/100\n",
      "26/26 [==============================] - 0s 6ms/step - loss: 20532.5898 - val_loss: 12250.4463\n",
      "Epoch 14/100\n",
      "26/26 [==============================] - 0s 6ms/step - loss: 20153.5371 - val_loss: 12125.9199\n",
      "Epoch 15/100\n",
      "26/26 [==============================] - 0s 5ms/step - loss: 19837.5098 - val_loss: 12041.1787\n",
      "Epoch 16/100\n",
      "26/26 [==============================] - 0s 5ms/step - loss: 19575.1699 - val_loss: 11990.0820\n",
      "Epoch 17/100\n",
      "26/26 [==============================] - 0s 5ms/step - loss: 19354.0723 - val_loss: 11967.4736\n",
      "Epoch 18/100\n",
      "26/26 [==============================] - 0s 6ms/step - loss: 19176.8516 - val_loss: 11966.0352\n",
      "Epoch 19/100\n",
      "26/26 [==============================] - 0s 5ms/step - loss: 19030.2148 - val_loss: 11981.4951\n",
      "Epoch 20/100\n",
      "26/26 [==============================] - 0s 6ms/step - loss: 18911.0820 - val_loss: 12008.5908\n",
      "Epoch 21/100\n",
      "26/26 [==============================] - 0s 5ms/step - loss: 18818.2051 - val_loss: 12046.0518\n",
      "Epoch 22/100\n",
      "26/26 [==============================] - 0s 6ms/step - loss: 18741.5391 - val_loss: 12087.9219\n",
      "Epoch 23/100\n",
      "26/26 [==============================] - 0s 5ms/step - loss: 18683.4434 - val_loss: 12135.4424\n",
      "Epoch 24/100\n",
      "26/26 [==============================] - 0s 5ms/step - loss: 18636.8613 - val_loss: 12182.8604\n",
      "Epoch 25/100\n",
      "26/26 [==============================] - 0s 5ms/step - loss: 18600.3418 - val_loss: 12226.4033\n",
      "Epoch 26/100\n",
      "26/26 [==============================] - 0s 5ms/step - loss: 18575.1094 - val_loss: 12276.5859\n",
      "Epoch 27/100\n",
      "26/26 [==============================] - 0s 5ms/step - loss: 18551.9395 - val_loss: 12315.6982\n",
      "Epoch 28/100\n",
      "26/26 [==============================] - 0s 5ms/step - loss: 18536.9043 - val_loss: 12356.0605\n",
      "Epoch 29/100\n",
      "26/26 [==============================] - 0s 5ms/step - loss: 18525.1309 - val_loss: 12394.5674\n",
      "Epoch 30/100\n",
      "26/26 [==============================] - 0s 5ms/step - loss: 18515.6035 - val_loss: 12421.7686\n",
      "Epoch 31/100\n",
      "26/26 [==============================] - 0s 5ms/step - loss: 18509.8301 - val_loss: 12456.6660\n",
      "Epoch 32/100\n",
      "26/26 [==============================] - 0s 6ms/step - loss: 18504.4824 - val_loss: 12477.8916\n",
      "Epoch 33/100\n",
      "26/26 [==============================] - 0s 5ms/step - loss: 18501.2715 - val_loss: 12505.2930\n",
      "Epoch 34/100\n",
      "26/26 [==============================] - 0s 5ms/step - loss: 18498.7246 - val_loss: 12520.8301\n",
      "Epoch 35/100\n",
      "26/26 [==============================] - 0s 5ms/step - loss: 18497.4707 - val_loss: 12548.9912\n",
      "Epoch 36/100\n",
      "26/26 [==============================] - 0s 5ms/step - loss: 18495.5801 - val_loss: 12558.1846\n",
      "Epoch 37/100\n",
      "26/26 [==============================] - 0s 5ms/step - loss: 18494.7695 - val_loss: 12570.6201\n",
      "Epoch 38/100\n",
      "26/26 [==============================] - 0s 5ms/step - loss: 18494.2695 - val_loss: 12578.9365\n"
     ]
    },
    {
     "data": {
      "text/plain": [
       "<keras.src.callbacks.History at 0x7f9eb06de6d0>"
      ]
     },
     "execution_count": 41,
     "metadata": {},
     "output_type": "execute_result"
    }
   ],
   "source": [
    "ES = EarlyStopping(monitor='val_loss', mode='auto', patience=20)\n",
    "model.fit(y, x,\n",
    "          batch_size=300,\n",
    "          epochs=100, #100 epochで学習\n",
    "          validation_split=0.1, #学習データの10%をvalidationに用いる\n",
    "          callbacks=[ES]\n",
    "          )"
   ]
  },
  {
   "cell_type": "code",
   "execution_count": 42,
   "metadata": {},
   "outputs": [
    {
     "name": "stdout",
     "output_type": "stream",
     "text": [
      "271/271 [==============================] - 1s 2ms/step\n"
     ]
    }
   ],
   "source": [
    "predicted = model.predict(y)"
   ]
  },
  {
   "cell_type": "code",
   "execution_count": 43,
   "metadata": {},
   "outputs": [
    {
     "data": {
      "text/plain": [
       "array([[145.32445],\n",
       "       [145.32504],\n",
       "       [145.32523],\n",
       "       ...,\n",
       "       [145.32547],\n",
       "       [145.32547],\n",
       "       [145.32544]], dtype=float32)"
      ]
     },
     "execution_count": 43,
     "metadata": {},
     "output_type": "execute_result"
    }
   ],
   "source": [
    "predicted"
   ]
  },
  {
   "cell_type": "code",
   "execution_count": 46,
   "metadata": {},
   "outputs": [
    {
     "data": {
      "image/png": "[encoded data removed]",
      "text/plain": [
       "<Figure size 640x480 with 1 Axes>"
      ]
     },
     "metadata": {},
     "output_type": "display_data"
    }
   ],
   "source": [
    "plt.figure()\n",
    "plt.plot(range(13,len(predicted)+13),predicted, color=\"r\", label=\"predict_data\")\n",
    "plt.plot(range(0, len(x)), x, color=\"b\", label=\"row_data\", alpha=0.5)\n",
    "plt.legend()\n",
    "plt.show()"
   ]
  }
 ],
 "metadata": {
  "kernelspec": {
   "display_name": "VE4071-3116",
   "language": "python",
   "name": "python3"
  },
  "language_info": {
   "codemirror_mode": {
    "name": "ipython",
    "version": 3
   },
   "file_extension": ".py",
   "mimetype": "text/x-python",
   "name": "python",
   "nbconvert_exporter": "python",
   "pygments_lexer": "ipython3",
   "version": "3.11.6"
  }
 },
 "nbformat": 4,
 "nbformat_minor": 2
}
