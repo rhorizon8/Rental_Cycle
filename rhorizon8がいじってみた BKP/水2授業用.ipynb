{
  "cells": [
    {
      "cell_type": "code",
      "execution_count": 2,
      "metadata": {
        "id": "Amrh3ZcAppZM"
      },
      "outputs": [],
      "source": [
        "import os\n",
        "import random\n",
        "import numpy as np\n",
        "import pandas as pd\n",
        "import librosa\n",
        "import librosa.display\n",
        "import matplotlib.pyplot as plt\n",
        "import seaborn as sn\n",
        "from sklearn import model_selection\n",
        "from sklearn import preprocessing\n",
        "import IPython.display as ipd\n"
      ]
    },
    {
      "cell_type": "code",
      "execution_count": 3,
      "metadata": {
        "id": "KWMQ9jnHv8LH"
      },
      "outputs": [
        {
          "ename": "NameError",
          "evalue": "name 'audio_dir' is not defined",
          "output_type": "error",
          "traceback": [
            "\u001b[1;31m---------------------------------------------------------------------------\u001b[0m",
            "\u001b[1;31mNameError\u001b[0m                                 Traceback (most recent call last)",
            "\u001b[1;32mc:\\Users\\a_wat\\OneDrive - OUMail (Osaka University)\\2023秋冬\\水2自然言語処理\\自転車\\水2授業用.ipynb セル 2\u001b[0m line \u001b[0;36m2\n\u001b[0;32m     <a href='vscode-notebook-cell:/c%3A/Users/a_wat/OneDrive%20-%20OUMail%20%28Osaka%20University%29/2023%E7%A7%8B%E5%86%AC/%E6%B0%B42%E8%87%AA%E7%84%B6%E8%A8%80%E8%AA%9E%E5%87%A6%E7%90%86/%E8%87%AA%E8%BB%A2%E8%BB%8A/%E6%B0%B42%E6%8E%88%E6%A5%AD%E7%94%A8.ipynb#W1sZmlsZQ%3D%3D?line=22'>23</a>\u001b[0m     plt\u001b[39m.\u001b[39mshow()\n\u001b[0;32m     <a href='vscode-notebook-cell:/c%3A/Users/a_wat/OneDrive%20-%20OUMail%20%28Osaka%20University%29/2023%E7%A7%8B%E5%86%AC/%E6%B0%B42%E8%87%AA%E7%84%B6%E8%A8%80%E8%AA%9E%E5%87%A6%E7%90%86/%E8%87%AA%E8%BB%A2%E8%BB%8A/%E6%B0%B42%E6%8E%88%E6%A5%AD%E7%94%A8.ipynb#W1sZmlsZQ%3D%3D?line=24'>25</a>\u001b[0m \u001b[39m# example data\u001b[39;00m\n\u001b[1;32m---> <a href='vscode-notebook-cell:/c%3A/Users/a_wat/OneDrive%20-%20OUMail%20%28Osaka%20University%29/2023%E7%A7%8B%E5%86%AC/%E6%B0%B42%E8%87%AA%E7%84%B6%E8%A8%80%E8%AA%9E%E5%87%A6%E7%90%86/%E8%87%AA%E8%BB%A2%E8%BB%8A/%E6%B0%B42%E6%8E%88%E6%A5%AD%E7%94%A8.ipynb#W1sZmlsZQ%3D%3D?line=25'>26</a>\u001b[0m x, fs \u001b[39m=\u001b[39m load_wave_data(audio_dir, meta_data\u001b[39m.\u001b[39mloc[\u001b[39m0\u001b[39m,\u001b[39m\"\u001b[39m\u001b[39mfilename\u001b[39m\u001b[39m\"\u001b[39m])\n\u001b[0;32m     <a href='vscode-notebook-cell:/c%3A/Users/a_wat/OneDrive%20-%20OUMail%20%28Osaka%20University%29/2023%E7%A7%8B%E5%86%AC/%E6%B0%B42%E8%87%AA%E7%84%B6%E8%A8%80%E8%AA%9E%E5%87%A6%E7%90%86/%E8%87%AA%E8%BB%A2%E8%BB%8A/%E6%B0%B42%E6%8E%88%E6%A5%AD%E7%94%A8.ipynb#W1sZmlsZQ%3D%3D?line=26'>27</a>\u001b[0m melsp \u001b[39m=\u001b[39m calculate_melsp(x)\n\u001b[0;32m     <a href='vscode-notebook-cell:/c%3A/Users/a_wat/OneDrive%20-%20OUMail%20%28Osaka%20University%29/2023%E7%A7%8B%E5%86%AC/%E6%B0%B42%E8%87%AA%E7%84%B6%E8%A8%80%E8%AA%9E%E5%87%A6%E7%90%86/%E8%87%AA%E8%BB%A2%E8%BB%8A/%E6%B0%B42%E6%8E%88%E6%A5%AD%E7%94%A8.ipynb#W1sZmlsZQ%3D%3D?line=27'>28</a>\u001b[0m \u001b[39mprint\u001b[39m(\u001b[39m\"\u001b[39m\u001b[39mwave size:\u001b[39m\u001b[39m{0}\u001b[39;00m\u001b[39m\\n\u001b[39;00m\u001b[39mmelsp size:\u001b[39m\u001b[39m{1}\u001b[39;00m\u001b[39m\\n\u001b[39;00m\u001b[39msamping rate:\u001b[39m\u001b[39m{2}\u001b[39;00m\u001b[39m\"\u001b[39m\u001b[39m.\u001b[39mformat(x\u001b[39m.\u001b[39mshape, melsp\u001b[39m.\u001b[39mshape, fs))\n",
            "\u001b[1;31mNameError\u001b[0m: name 'audio_dir' is not defined"
          ]
        }
      ],
      "source": [
        "# load a wave data\n",
        "def load_wave_data(audio_dir, file_name):\n",
        "    file_path = os.path.join(audio_dir, file_name)\n",
        "    x, fs = librosa.load(file_path, sr=44100)\n",
        "    return x,fs\n",
        "\n",
        "# change wave data to mel-stft\n",
        "def calculate_melsp(x, n_fft=1024, hop_length=128):\n",
        "    stft = np.abs(librosa.stft(x, n_fft=n_fft, hop_length=hop_length))**2\n",
        "    log_stft = librosa.power_to_db(stft)\n",
        "    melsp = librosa.feature.melspectrogram(S=log_stft,n_mels=128)\n",
        "    return melsp\n",
        "\n",
        "# display wave in plots\n",
        "def show_wave(x):\n",
        "    plt.plot(x)\n",
        "    plt.show()\n",
        "\n",
        "# display wave in heatmap\n",
        "def show_melsp(melsp, fs):\n",
        "    librosa.display.specshow(melsp, sr=fs)\n",
        "    plt.colorbar()\n",
        "    plt.show()\n",
        "\n",
        "# example data\n",
        "x, fs = load_wave_data(audio_dir, meta_data.loc[0,\"filename\"])\n",
        "melsp = calculate_melsp(x)\n",
        "print(\"wave size:{0}\\nmelsp size:{1}\\nsamping rate:{2}\".format(x.shape, melsp.shape, fs))\n",
        "show_wave(x)\n",
        "show_melsp(melsp, fs)\n",
        "\n"
      ]
    },
    {
      "cell_type": "code",
      "execution_count": 6,
      "metadata": {
        "colab": {
          "base_uri": "https://localhost:8080/"
        },
        "id": "BnlmLUthVDVz",
        "outputId": "d89d76f3-4811-4a99-e681-be369e38435b"
      },
      "outputs": [
        {
          "name": "stdout",
          "output_type": "stream",
          "text": [
            "<class 'pandas.core.frame.DataFrame'>\n",
            "RangeIndex: 8645 entries, 0 to 8644\n",
            "Data columns (total 14 columns):\n",
            " #   Column      Non-Null Count  Dtype  \n",
            "---  ------      --------------  -----  \n",
            " 0   id          8645 non-null   int64  \n",
            " 1   season      8645 non-null   int64  \n",
            " 2   yr          8645 non-null   int64  \n",
            " 3   mnth        8645 non-null   int64  \n",
            " 4   hr          8645 non-null   int64  \n",
            " 5   holiday     8645 non-null   int64  \n",
            " 6   weekday     8645 non-null   int64  \n",
            " 7   workingday  8645 non-null   int64  \n",
            " 8   weathersit  8645 non-null   int64  \n",
            " 9   temp        8645 non-null   float64\n",
            " 10  atemp       8645 non-null   float64\n",
            " 11  hum         8645 non-null   float64\n",
            " 12  windspeed   8645 non-null   float64\n",
            " 13  cnt         8645 non-null   int64  \n",
            "dtypes: float64(4), int64(10)\n",
            "memory usage: 945.7 KB\n",
            "<class 'pandas.core.frame.DataFrame'>\n",
            "RangeIndex: 8734 entries, 0 to 8733\n",
            "Data columns (total 13 columns):\n",
            " #   Column      Non-Null Count  Dtype  \n",
            "---  ------      --------------  -----  \n",
            " 0   id          8734 non-null   int64  \n",
            " 1   season      8734 non-null   int64  \n",
            " 2   yr          8734 non-null   int64  \n",
            " 3   mnth        8734 non-null   int64  \n",
            " 4   hr          8734 non-null   int64  \n",
            " 5   holiday     8734 non-null   int64  \n",
            " 6   weekday     8734 non-null   int64  \n",
            " 7   workingday  8734 non-null   int64  \n",
            " 8   weathersit  8734 non-null   int64  \n",
            " 9   temp        8734 non-null   float64\n",
            " 10  atemp       8734 non-null   float64\n",
            " 11  hum         8734 non-null   float64\n",
            " 12  windspeed   8734 non-null   float64\n",
            "dtypes: float64(4), int64(9)\n",
            "memory usage: 887.2 KB\n"
          ]
        }
      ],
      "source": [
        "##データセットの作成\n",
        "train_df = pd.read_csv(\"./train.tsv\", delimiter='\\t')\n",
        "train_df = train_df.drop(train_df.columns[1],axis = 1)\n",
        "train_df.info()\n",
        "test_df = pd.read_csv(\"./test.tsv\", delimiter='\\t')\n",
        "test_df = test_df.drop(test_df.columns[1],axis = 1)\n",
        "test_df.info()"
      ]
    },
    {
      "cell_type": "code",
      "execution_count": 7,
      "metadata": {
        "colab": {
          "base_uri": "https://localhost:8080/",
          "height": 112
        },
        "id": "Zl91bQwtU9SM",
        "outputId": "0cd199e6-1511-486b-c8e0-7abe36e7558a"
      },
      "outputs": [
        {
          "data": {
            "text/html": [
              "<div>\n",
              "<style scoped>\n",
              "    .dataframe tbody tr th:only-of-type {\n",
              "        vertical-align: middle;\n",
              "    }\n",
              "\n",
              "    .dataframe tbody tr th {\n",
              "        vertical-align: top;\n",
              "    }\n",
              "\n",
              "    .dataframe thead th {\n",
              "        text-align: right;\n",
              "    }\n",
              "</style>\n",
              "<table border=\"1\" class=\"dataframe\">\n",
              "  <thead>\n",
              "    <tr style=\"text-align: right;\">\n",
              "      <th></th>\n",
              "      <th>test_score</th>\n",
              "      <th>train_score</th>\n",
              "    </tr>\n",
              "  </thead>\n",
              "  <tbody>\n",
              "    <tr>\n",
              "      <th>GradientBoost</th>\n",
              "      <td>0.849550</td>\n",
              "      <td>0.868524</td>\n",
              "    </tr>\n",
              "    <tr>\n",
              "      <th>RandomForest</th>\n",
              "      <td>0.925477</td>\n",
              "      <td>0.990093</td>\n",
              "    </tr>\n",
              "  </tbody>\n",
              "</table>\n",
              "</div>"
            ],
            "text/plain": [
              "               test_score  train_score\n",
              "GradientBoost    0.849550     0.868524\n",
              "RandomForest     0.925477     0.990093"
            ]
          },
          "execution_count": 7,
          "metadata": {},
          "output_type": "execute_result"
        }
      ],
      "source": [
        "##ランダムフォレストと勾配ブースティングによる解析\n",
        "# インポート\n",
        "from sklearn.model_selection import train_test_split\n",
        "from sklearn.ensemble import RandomForestRegressor, GradientBoostingRegressor\n",
        "# 訓練データとテストデータに分ける\n",
        "X_train, X_test, y_train, y_test = train_test_split(\n",
        "    train_df[train_df.columns[1:13]], train_df[\"cnt\"], random_state=66)\n",
        "\n",
        "# ランダムフォレストと勾配ブースティングのパラメータ設定\n",
        "models = {\n",
        "    'RandomForest': RandomForestRegressor(random_state=0),\n",
        "    'GradientBoost': GradientBoostingRegressor(random_state=0)\n",
        "}\n",
        "\n",
        "# モデル構築\n",
        "scores = {}\n",
        "for model_name, model in models.items():\n",
        "    model.fit(X_train, y_train)\n",
        "    scores[(model_name, 'train_score')] = model.score(X_train, y_train)\n",
        "    scores[(model_name, 'test_score')] = model.score(X_test, y_test)\n",
        "\n",
        "# 結果を表示\n",
        "pd.Series(scores).unstack()"
      ]
    },
    {
      "cell_type": "code",
      "execution_count": 8,
      "metadata": {
        "colab": {
          "base_uri": "https://localhost:8080/"
        },
        "id": "vMBoJBJfHRXw",
        "outputId": "4f31ef18-a5f4-4298-e791-75640c1d092f"
      },
      "outputs": [
        {
          "data": {
            "text/plain": [
              "pandas.core.frame.DataFrame"
            ]
          },
          "execution_count": 8,
          "metadata": {},
          "output_type": "execute_result"
        }
      ],
      "source": [
        "type(pd.Series(scores).unstack())"
      ]
    },
    {
      "cell_type": "code",
      "execution_count": 9,
      "metadata": {
        "colab": {
          "base_uri": "https://localhost:8080/",
          "height": 268
        },
        "id": "kkdxlzO9HGLz",
        "outputId": "bd7b1a3b-0b6b-46f6-f925-bd1d9cb71beb"
      },
      "outputs": [
        {
          "data": {
            "image/png": "[encoded data removed]",
            "text/plain": [
              "<Figure size 400x300 with 1 Axes>"
            ]
          },
          "metadata": {},
          "output_type": "display_data"
        }
      ],
      "source": [
        "# dfは出力したいDataFrame\n",
        "# wは横幅、hは縦幅\n",
        "# outputPathは出力先のパス\n",
        "\n",
        "def TablePlot(df,w,h,outputPath):\n",
        "    fig, ax = plt.subplots(figsize=(w,h))\n",
        "    ax.axis('off')\n",
        "    ax.table(\n",
        "        df.values,\n",
        "        colLabels = df.columns,\n",
        "        loc = 'center',\n",
        "        bbox=[0,0,1,1]\n",
        "    )\n",
        "    plt.savefig(outputPath)\n",
        "    plt.show()\n",
        "TablePlot(pd.Series(scores).unstack(),4,3,\"./\")"
      ]
    },
    {
      "cell_type": "code",
      "execution_count": 10,
      "metadata": {
        "colab": {
          "base_uri": "https://localhost:8080/"
        },
        "id": "WHHeYmOTq0X2",
        "outputId": "98b42380-608a-471a-e66c-d60da171b5a9"
      },
      "outputs": [
        {
          "name": "stdout",
          "output_type": "stream",
          "text": [
            "0.9254770626501114\n"
          ]
        }
      ],
      "source": [
        "#スコアが良かったのでランダムフォレストのみでやってみる\n",
        "# インポート\n",
        "from sklearn.model_selection import train_test_split\n",
        "from sklearn.ensemble import RandomForestRegressor\n",
        "# 訓練データとテストデータに分ける\n",
        "X_train, X_test, y_train, y_test = train_test_split(train_df[train_df.columns[1:13]], train_df[\"cnt\"], random_state=66)\n",
        "#モデル構築\n",
        "forest = RandomForestRegressor(random_state=0)\n",
        "forest.fit(X_train,y_train)\n",
        "print(forest.score(X_test, y_test))"
      ]
    },
    {
      "cell_type": "code",
      "execution_count": 11,
      "metadata": {
        "colab": {
          "base_uri": "https://localhost:8080/",
          "height": 466
        },
        "id": "WmY0LF6dOxf9",
        "outputId": "29d51b5d-b9eb-4f29-ec44-fc8cabd7f733"
      },
      "outputs": [
        {
          "data": {
            "text/plain": [
              "<Axes: xlabel='mnth'>"
            ]
          },
          "execution_count": 11,
          "metadata": {},
          "output_type": "execute_result"
        },
        {
          "data": {
            "image/png": "[encoded data removed]",
            "text/plain": [
              "<Figure size 640x480 with 1 Axes>"
            ]
          },
          "metadata": {},
          "output_type": "display_data"
        }
      ],
      "source": [
        "#各月の利用者数平均と月の折線グラフ\n",
        "train_df.groupby(\"mnth\")[\"cnt\"].mean().plot()"
      ]
    },
    {
      "cell_type": "code",
      "execution_count": 25,
      "metadata": {
        "colab": {
          "base_uri": "https://localhost:8080/",
          "height": 472
        },
        "id": "ZI7kmdkl-2Nj",
        "outputId": "652d457e-e5e7-4cc5-d0c4-c8151d21c6ce"
      },
      "outputs": [
        {
          "data": {
            "text/plain": [
              "Text(0.5, 0, 'importance of feature')"
            ]
          },
          "execution_count": 25,
          "metadata": {},
          "output_type": "execute_result"
        },
        {
          "data": {
            "image/png": "[encoded data removed]",
            "text/plain": [
              "<Figure size 640x480 with 1 Axes>"
            ]
          },
          "metadata": {},
          "output_type": "display_data"
        }
      ],
      "source": [
        "#特徴量の重要度を棒グラフにする\n",
        "plt.barh(X_train.columns, forest.feature_importances_)\n",
        "plt.ylabel(\"feature\")\n",
        "plt.xlabel(\"importance of feature\")"
      ]
    },
    {
      "cell_type": "code",
      "execution_count": 15,
      "metadata": {
        "colab": {
          "base_uri": "https://localhost:8080/",
          "height": 180
        },
        "id": "h11LDUeuBSYk",
        "outputId": "6ff10271-6f38-4aa5-8e46-7d2ac9f4c232"
      },
      "outputs": [
        {
          "ename": "AttributeError",
          "evalue": "'GradientBoostingRegressor' object has no attribute 'columns'",
          "output_type": "error",
          "traceback": [
            "\u001b[1;31m---------------------------------------------------------------------------\u001b[0m",
            "\u001b[1;31mAttributeError\u001b[0m                            Traceback (most recent call last)",
            "\u001b[1;32mc:\\Users\\a_wat\\OneDrive - OUMail (Osaka University)\\2023秋冬\\水2自然言語処理\\自転車\\水2授業用.ipynb セル 10\u001b[0m line \u001b[0;36m1\n\u001b[1;32m----> <a href='vscode-notebook-cell:/c%3A/Users/a_wat/OneDrive%20-%20OUMail%20%28Osaka%20University%29/2023%E7%A7%8B%E5%86%AC/%E6%B0%B42%E8%87%AA%E7%84%B6%E8%A8%80%E8%AA%9E%E5%87%A6%E7%90%86/%E8%87%AA%E8%BB%A2%E8%BB%8A/%E6%B0%B42%E6%8E%88%E6%A5%AD%E7%94%A8.ipynb#X12sZmlsZQ%3D%3D?line=0'>1</a>\u001b[0m model\u001b[39m.\u001b[39;49mcolumns\n",
            "\u001b[1;31mAttributeError\u001b[0m: 'GradientBoostingRegressor' object has no attribute 'columns'"
          ]
        }
      ],
      "source": [
        "model.columns"
      ]
    },
    {
      "cell_type": "code",
      "execution_count": null,
      "metadata": {
        "colab": {
          "base_uri": "https://localhost:8080/"
        },
        "id": "MiNpaYA5_i4c",
        "outputId": "38c7b9e8-77a9-4ae5-d0d0-d10a4976a263"
      },
      "outputs": [
        {
          "data": {
            "text/plain": [
              "['id',\n",
              " 'season',\n",
              " 'yr',\n",
              " 'mnth',\n",
              " 'hr',\n",
              " 'holiday',\n",
              " 'weekday',\n",
              " 'workingday',\n",
              " 'weathersit',\n",
              " 'temp',\n",
              " 'atemp',\n",
              " 'hum',\n",
              " 'windspeed',\n",
              " 'cnt']"
            ]
          },
          "execution_count": 18,
          "metadata": {},
          "output_type": "execute_result"
        }
      ],
      "source": []
    }
  ],
  "metadata": {
    "colab": {
      "provenance": []
    },
    "kernelspec": {
      "display_name": "Python 3",
      "name": "python3"
    },
    "language_info": {
      "codemirror_mode": {
        "name": "ipython",
        "version": 3
      },
      "file_extension": ".py",
      "mimetype": "text/x-python",
      "name": "python",
      "nbconvert_exporter": "python",
      "pygments_lexer": "ipython3",
      "version": "3.11.6"
    }
  },
  "nbformat": 4,
  "nbformat_minor": 0
}
